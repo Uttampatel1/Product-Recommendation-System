{
 "cells": [
  {
   "cell_type": "code",
   "execution_count": 40,
   "metadata": {},
   "outputs": [],
   "source": [
    "\n",
    "import pandas as pd\n",
    "import numpy as np\n",
    "import pandas as pd\n",
    "import numpy as np\n",
    "import tensorflow as tf\n",
    "from sklearn.model_selection import train_test_split\n",
    "from sklearn.preprocessing import LabelEncoder, StandardScaler\n",
    "from sklearn.utils import shuffle\n"
   ]
  },
  {
   "attachments": {},
   "cell_type": "markdown",
   "metadata": {},
   "source": [
    "\n",
    "# Step 1: Load and preprocess the data"
   ]
  },
  {
   "cell_type": "code",
   "execution_count": 41,
   "metadata": {},
   "outputs": [],
   "source": [
    "data = pd.read_csv('data/final.csv')"
   ]
  },
  {
   "cell_type": "code",
   "execution_count": 42,
   "metadata": {},
   "outputs": [
    {
     "data": {
      "text/html": [
       "<div>\n",
       "<style scoped>\n",
       "    .dataframe tbody tr th:only-of-type {\n",
       "        vertical-align: middle;\n",
       "    }\n",
       "\n",
       "    .dataframe tbody tr th {\n",
       "        vertical-align: top;\n",
       "    }\n",
       "\n",
       "    .dataframe thead th {\n",
       "        text-align: right;\n",
       "    }\n",
       "</style>\n",
       "<table border=\"1\" class=\"dataframe\">\n",
       "  <thead>\n",
       "    <tr style=\"text-align: right;\">\n",
       "      <th></th>\n",
       "      <th>CustomerId</th>\n",
       "      <th>AreaName</th>\n",
       "      <th>IndustryName</th>\n",
       "      <th>ProductName</th>\n",
       "    </tr>\n",
       "  </thead>\n",
       "  <tbody>\n",
       "    <tr>\n",
       "      <th>0</th>\n",
       "      <td>1662</td>\n",
       "      <td>AUCKLAND SOUTH</td>\n",
       "      <td>STEEL FABRICATORS</td>\n",
       "      <td>PLATE MEDIUM TENSILE GR350</td>\n",
       "    </tr>\n",
       "    <tr>\n",
       "      <th>1</th>\n",
       "      <td>1662</td>\n",
       "      <td>AUCKLAND SOUTH</td>\n",
       "      <td>STEEL FABRICATORS</td>\n",
       "      <td>PLATE MEDIUM TENSILE GR350</td>\n",
       "    </tr>\n",
       "    <tr>\n",
       "      <th>2</th>\n",
       "      <td>1662</td>\n",
       "      <td>AUCKLAND SOUTH</td>\n",
       "      <td>STEEL FABRICATORS</td>\n",
       "      <td>PLATE MEDIUM TENSILE GR350</td>\n",
       "    </tr>\n",
       "    <tr>\n",
       "      <th>3</th>\n",
       "      <td>1662</td>\n",
       "      <td>AUCKLAND SOUTH</td>\n",
       "      <td>STEEL FABRICATORS</td>\n",
       "      <td>PLATE MEDIUM TENSILE GR350</td>\n",
       "    </tr>\n",
       "    <tr>\n",
       "      <th>4</th>\n",
       "      <td>1662</td>\n",
       "      <td>AUCKLAND SOUTH</td>\n",
       "      <td>STEEL FABRICATORS</td>\n",
       "      <td>PLATE MEDIUM TENSILE GR350</td>\n",
       "    </tr>\n",
       "  </tbody>\n",
       "</table>\n",
       "</div>"
      ],
      "text/plain": [
       "   CustomerId        AreaName       IndustryName                 ProductName\n",
       "0        1662  AUCKLAND SOUTH  STEEL FABRICATORS  PLATE MEDIUM TENSILE GR350\n",
       "1        1662  AUCKLAND SOUTH  STEEL FABRICATORS  PLATE MEDIUM TENSILE GR350\n",
       "2        1662  AUCKLAND SOUTH  STEEL FABRICATORS  PLATE MEDIUM TENSILE GR350\n",
       "3        1662  AUCKLAND SOUTH  STEEL FABRICATORS  PLATE MEDIUM TENSILE GR350\n",
       "4        1662  AUCKLAND SOUTH  STEEL FABRICATORS  PLATE MEDIUM TENSILE GR350"
      ]
     },
     "execution_count": 42,
     "metadata": {},
     "output_type": "execute_result"
    }
   ],
   "source": [
    "data.head()"
   ]
  },
  {
   "cell_type": "code",
   "execution_count": 51,
   "metadata": {},
   "outputs": [
    {
     "data": {
      "text/plain": [
       "['SHS NOP AS/NZS 1163 G450 LO',\n",
       " 'SHEET ELECTRO GALV',\n",
       " 'PLATE MEDIUM TENSILE GR350',\n",
       " 'BLK PIPE LGT P/E(33.7OD) AS1074 C250',\n",
       " 'RYDAL FLAT S1010',\n",
       " 'PLATE AS 3678-450',\n",
       " 'UNEQUAL ANGLE AS/NZS 3679 GRADE 300',\n",
       " 'RHS NOP AS 1163 C350 LO',\n",
       " 'ZINC ALUMINIUM G300 AZ150',\n",
       " 'E.W.S.SQUARE TUBE']"
      ]
     },
     "execution_count": 51,
     "metadata": {},
     "output_type": "execute_result"
    }
   ],
   "source": [
    "list(data['ProductName'].value_counts()[:10].keys())"
   ]
  },
  {
   "cell_type": "code",
   "execution_count": 34,
   "metadata": {},
   "outputs": [
    {
     "name": "stdout",
     "output_type": "stream",
     "text": [
      "['AK COIL PROCESSING', 'AUCKLAND CENTRAL', 'AUCKLAND EAST', 'AUCKLAND NORTH', 'AUCKLAND SOUTH', 'AUCKLAND WEST', 'CENTRAL OTAGO', 'CH COIL PROCESSING', 'CHCH EAST', 'CHCH NORTH', 'CHCH SOUTH', 'CHCH WEST', 'COROMANDEL', 'DUNEDIN OTAGO', 'GISBORNE', 'HAMILTON', 'HAWKES BAY', 'KATIKATI TO PAEROA', 'LEVIN', 'MARLBOROUGH', 'MATAMATA-TIRAU', 'MERCHANT NORTH ISLAN', 'MERCHANT SOUTH ISLAN', 'MID CANTERBURY', 'MOUNT - TEPUKE', 'NELSON & BAYS', 'NORTH CANTERBURY', 'NORTH OTAGO', 'NORTHLAND', 'PALMERSTON NORTH', 'ROTORUA', 'SOUTH CANTERBURY', 'SOUTH OTAGO', 'SOUTHLAND', 'STAINLESS', 'TARANAKI', 'TAUPO-TURANGI', 'TAURANGA', 'TOKOROA-PUTARURU', 'WAIKATO', 'WAIRARAPA DISTRICT', 'WANGANUI', 'WELLINGTON', 'WEST COAST', 'WHAK-KAWER-OPOTIKI']\n"
     ]
    }
   ],
   "source": [
    "l = sorted(data['AreaName'].unique())\n",
    "print(l)"
   ]
  },
  {
   "cell_type": "code",
   "execution_count": 35,
   "metadata": {},
   "outputs": [
    {
     "name": "stdout",
     "output_type": "stream",
     "text": [
      "['DAIRY INDUSTRY', 'DAIRY SHEDS', 'DOOR MANUFACTURER', 'FENCING', 'FOOD MANUFACTURERS', 'GENERAL ENGINEERING', 'MANUFACTURERS', 'MARINE INDUSTRY', 'MATERIALS HANDLING', 'PROJECT ENGINEERS', 'RESELLER/COMPETITOR', 'ROLLFORMERS', 'Re-Work', 'SHEETMETAL ENGINEERS', 'STAINLESS STEEL FAB', 'STEEL FABRICATORS', 'STRUCTURAL CONSTRUCTION', 'TRAINING INSTITUTE', 'TRANSPORT ENGINEERS', 'UNDEFINED']\n"
     ]
    }
   ],
   "source": [
    "l = sorted(data['IndustryName'].unique())\n",
    "print(l)"
   ]
  },
  {
   "cell_type": "code",
   "execution_count": 39,
   "metadata": {},
   "outputs": [
    {
     "name": "stdout",
     "output_type": "stream",
     "text": [
      "####################################################################\n",
      "1/1 [==============================] - 0s 63ms/step\n"
     ]
    },
    {
     "data": {
      "text/plain": [
       "['RHS NOP AS 1163 C350 LO',\n",
       " 'GALV PIPE MED S/S (114.1OD) AS1074 C250 ',\n",
       " 'RYDAL FLAT S1010',\n",
       " 'ZINC ALUMINIUM G300 AZ150',\n",
       " 'BLK PIPE LGT P/E(33.7OD) AS1074 C250',\n",
       " 'UNEQUAL ANGLE AS/NZS 3679 GRADE 300',\n",
       " 'SHEET ELECTRO GALV',\n",
       " 'PLATE AS 3678-450',\n",
       " 'PLATE MEDIUM TENSILE GR350',\n",
       " 'SHS NOP AS/NZS 1163 G450 LO']"
      ]
     },
     "execution_count": 39,
     "metadata": {},
     "output_type": "execute_result"
    }
   ],
   "source": [
    "from dnn1 import are_ind\n",
    "list(are_ind('SOUTHLAND','Re-Work'))"
   ]
  },
  {
   "cell_type": "code",
   "execution_count": 8,
   "metadata": {},
   "outputs": [],
   "source": [
    "# Perform any necessary data cleaning and preprocessing here\n",
    "\n",
    "# Step 2: Encode categorical variables\n",
    "cat_vars = ['AreaName', 'IndustryName','ProductName']\n",
    "label_encoders = {}\n",
    "for var in cat_vars:\n",
    "    label_encoders[var] = LabelEncoder()\n",
    "    data[var] = label_encoders[var].fit_transform(data[var])\n"
   ]
  },
  {
   "cell_type": "code",
   "execution_count": 9,
   "metadata": {},
   "outputs": [
    {
     "data": {
      "text/html": [
       "<div>\n",
       "<style scoped>\n",
       "    .dataframe tbody tr th:only-of-type {\n",
       "        vertical-align: middle;\n",
       "    }\n",
       "\n",
       "    .dataframe tbody tr th {\n",
       "        vertical-align: top;\n",
       "    }\n",
       "\n",
       "    .dataframe thead th {\n",
       "        text-align: right;\n",
       "    }\n",
       "</style>\n",
       "<table border=\"1\" class=\"dataframe\">\n",
       "  <thead>\n",
       "    <tr style=\"text-align: right;\">\n",
       "      <th></th>\n",
       "      <th>CustomerId</th>\n",
       "      <th>AreaName</th>\n",
       "      <th>IndustryName</th>\n",
       "      <th>ProductName</th>\n",
       "    </tr>\n",
       "  </thead>\n",
       "  <tbody>\n",
       "    <tr>\n",
       "      <th>0</th>\n",
       "      <td>1662</td>\n",
       "      <td>4</td>\n",
       "      <td>15</td>\n",
       "      <td>10</td>\n",
       "    </tr>\n",
       "    <tr>\n",
       "      <th>1</th>\n",
       "      <td>1662</td>\n",
       "      <td>4</td>\n",
       "      <td>15</td>\n",
       "      <td>10</td>\n",
       "    </tr>\n",
       "    <tr>\n",
       "      <th>2</th>\n",
       "      <td>1662</td>\n",
       "      <td>4</td>\n",
       "      <td>15</td>\n",
       "      <td>10</td>\n",
       "    </tr>\n",
       "    <tr>\n",
       "      <th>3</th>\n",
       "      <td>1662</td>\n",
       "      <td>4</td>\n",
       "      <td>15</td>\n",
       "      <td>10</td>\n",
       "    </tr>\n",
       "    <tr>\n",
       "      <th>4</th>\n",
       "      <td>1662</td>\n",
       "      <td>4</td>\n",
       "      <td>15</td>\n",
       "      <td>10</td>\n",
       "    </tr>\n",
       "  </tbody>\n",
       "</table>\n",
       "</div>"
      ],
      "text/plain": [
       "   CustomerId  AreaName  IndustryName  ProductName\n",
       "0        1662         4            15           10\n",
       "1        1662         4            15           10\n",
       "2        1662         4            15           10\n",
       "3        1662         4            15           10\n",
       "4        1662         4            15           10"
      ]
     },
     "execution_count": 9,
     "metadata": {},
     "output_type": "execute_result"
    }
   ],
   "source": [
    "data.head()"
   ]
  },
  {
   "cell_type": "code",
   "execution_count": 10,
   "metadata": {},
   "outputs": [],
   "source": [
    "# Step 3: Split the data into training and testing sets\n",
    "X = data[['AreaName', 'IndustryName']].values\n",
    "# X = data[cat_vars].values\n",
    "y = data['ProductName'].values\n",
    "\n",
    "X_train, X_test, y_train, y_test = train_test_split(X, y, test_size=0.2, random_state=42)\n"
   ]
  },
  {
   "cell_type": "code",
   "execution_count": 11,
   "metadata": {},
   "outputs": [
    {
     "data": {
      "text/plain": [
       "array([[ 4, 15],\n",
       "       [ 4, 15],\n",
       "       [ 4, 15],\n",
       "       ...,\n",
       "       [ 5, 16],\n",
       "       [ 5, 16],\n",
       "       [16,  5]])"
      ]
     },
     "execution_count": 11,
     "metadata": {},
     "output_type": "execute_result"
    }
   ],
   "source": [
    "X"
   ]
  },
  {
   "cell_type": "code",
   "execution_count": 12,
   "metadata": {},
   "outputs": [],
   "source": [
    "\n",
    "# Step 4: Define the Softmax DNN model\n",
    "num_features = 2\n",
    "num_classes = len(np.unique(y))\n",
    "\n",
    "model = tf.keras.Sequential([\n",
    "    tf.keras.layers.Dense(64, activation='relu', input_shape=(num_features,)),\n",
    "    tf.keras.layers.Dropout(0.2),\n",
    "    tf.keras.layers.Dense(32, activation='relu'),\n",
    "    tf.keras.layers.Dense(num_classes, activation='softmax')\n",
    "])"
   ]
  },
  {
   "cell_type": "code",
   "execution_count": 13,
   "metadata": {},
   "outputs": [
    {
     "name": "stdout",
     "output_type": "stream",
     "text": [
      "Epoch 1/50\n",
      "500/500 [==============================] - 2s 2ms/step - loss: 2.2170 - accuracy: 0.2636 - val_loss: 1.9569 - val_accuracy: 0.2998\n",
      "Epoch 2/50\n",
      "500/500 [==============================] - 1s 2ms/step - loss: 1.9861 - accuracy: 0.2862 - val_loss: 1.9079 - val_accuracy: 0.3293\n",
      "Epoch 3/50\n",
      "500/500 [==============================] - 1s 2ms/step - loss: 1.9461 - accuracy: 0.2965 - val_loss: 1.8899 - val_accuracy: 0.2870\n",
      "Epoch 4/50\n",
      "500/500 [==============================] - 1s 2ms/step - loss: 1.9146 - accuracy: 0.3021 - val_loss: 1.8565 - val_accuracy: 0.3447\n",
      "Epoch 5/50\n",
      "500/500 [==============================] - 1s 2ms/step - loss: 1.8768 - accuracy: 0.3222 - val_loss: 1.8165 - val_accuracy: 0.3400\n",
      "Epoch 6/50\n",
      "500/500 [==============================] - 1s 2ms/step - loss: 1.8456 - accuracy: 0.3298 - val_loss: 1.8047 - val_accuracy: 0.3290\n",
      "Epoch 7/50\n",
      "500/500 [==============================] - 1s 2ms/step - loss: 1.8266 - accuracy: 0.3389 - val_loss: 1.7746 - val_accuracy: 0.3528\n",
      "Epoch 8/50\n",
      "500/500 [==============================] - 1s 2ms/step - loss: 1.8153 - accuracy: 0.3470 - val_loss: 1.7734 - val_accuracy: 0.3512\n",
      "Epoch 9/50\n",
      "500/500 [==============================] - 1s 2ms/step - loss: 1.8002 - accuracy: 0.3557 - val_loss: 1.7794 - val_accuracy: 0.3665\n",
      "Epoch 10/50\n",
      "500/500 [==============================] - 1s 2ms/step - loss: 1.7892 - accuracy: 0.3574 - val_loss: 1.7434 - val_accuracy: 0.3960\n",
      "Epoch 11/50\n",
      "500/500 [==============================] - 1s 2ms/step - loss: 1.7757 - accuracy: 0.3661 - val_loss: 1.7365 - val_accuracy: 0.3798\n",
      "Epoch 12/50\n",
      "500/500 [==============================] - 1s 2ms/step - loss: 1.7699 - accuracy: 0.3689 - val_loss: 1.7340 - val_accuracy: 0.4078\n",
      "Epoch 13/50\n",
      "500/500 [==============================] - 1s 2ms/step - loss: 1.7594 - accuracy: 0.3729 - val_loss: 1.7232 - val_accuracy: 0.3905\n",
      "Epoch 14/50\n",
      "500/500 [==============================] - 1s 2ms/step - loss: 1.7493 - accuracy: 0.3820 - val_loss: 1.7239 - val_accuracy: 0.3830\n",
      "Epoch 15/50\n",
      "500/500 [==============================] - 1s 2ms/step - loss: 1.7474 - accuracy: 0.3779 - val_loss: 1.7101 - val_accuracy: 0.3895\n",
      "Epoch 16/50\n",
      "500/500 [==============================] - 1s 2ms/step - loss: 1.7383 - accuracy: 0.3859 - val_loss: 1.7028 - val_accuracy: 0.3828\n",
      "Epoch 17/50\n",
      "500/500 [==============================] - 1s 2ms/step - loss: 1.7334 - accuracy: 0.3844 - val_loss: 1.6986 - val_accuracy: 0.3873\n",
      "Epoch 18/50\n",
      "500/500 [==============================] - 1s 2ms/step - loss: 1.7250 - accuracy: 0.3913 - val_loss: 1.6942 - val_accuracy: 0.3983\n",
      "Epoch 19/50\n",
      "500/500 [==============================] - 1s 2ms/step - loss: 1.7215 - accuracy: 0.3947 - val_loss: 1.6891 - val_accuracy: 0.3947\n",
      "Epoch 20/50\n",
      "500/500 [==============================] - 1s 2ms/step - loss: 1.7199 - accuracy: 0.3927 - val_loss: 1.6838 - val_accuracy: 0.3887\n",
      "Epoch 21/50\n",
      "500/500 [==============================] - 1s 2ms/step - loss: 1.7112 - accuracy: 0.3941 - val_loss: 1.6803 - val_accuracy: 0.3882\n",
      "Epoch 22/50\n",
      "500/500 [==============================] - 1s 2ms/step - loss: 1.7057 - accuracy: 0.3971 - val_loss: 1.6707 - val_accuracy: 0.3910\n",
      "Epoch 23/50\n",
      "500/500 [==============================] - 1s 2ms/step - loss: 1.7033 - accuracy: 0.3993 - val_loss: 1.6672 - val_accuracy: 0.4260\n",
      "Epoch 24/50\n",
      "500/500 [==============================] - 1s 2ms/step - loss: 1.7006 - accuracy: 0.3958 - val_loss: 1.6637 - val_accuracy: 0.4200\n",
      "Epoch 25/50\n",
      "500/500 [==============================] - 1s 2ms/step - loss: 1.6987 - accuracy: 0.3985 - val_loss: 1.6532 - val_accuracy: 0.4128\n",
      "Epoch 26/50\n",
      "500/500 [==============================] - 1s 2ms/step - loss: 1.6939 - accuracy: 0.4026 - val_loss: 1.6475 - val_accuracy: 0.4025\n",
      "Epoch 27/50\n",
      "500/500 [==============================] - 1s 2ms/step - loss: 1.6849 - accuracy: 0.4041 - val_loss: 1.6402 - val_accuracy: 0.4225\n",
      "Epoch 28/50\n",
      "500/500 [==============================] - 1s 2ms/step - loss: 1.6790 - accuracy: 0.4131 - val_loss: 1.6378 - val_accuracy: 0.4277\n",
      "Epoch 29/50\n",
      "500/500 [==============================] - 1s 2ms/step - loss: 1.6745 - accuracy: 0.4158 - val_loss: 1.6299 - val_accuracy: 0.4178\n",
      "Epoch 30/50\n",
      "500/500 [==============================] - 1s 3ms/step - loss: 1.6721 - accuracy: 0.4149 - val_loss: 1.6288 - val_accuracy: 0.4417\n",
      "Epoch 31/50\n",
      "500/500 [==============================] - 1s 2ms/step - loss: 1.6688 - accuracy: 0.4181 - val_loss: 1.6305 - val_accuracy: 0.4293\n",
      "Epoch 32/50\n",
      "500/500 [==============================] - 1s 2ms/step - loss: 1.6689 - accuracy: 0.4199 - val_loss: 1.6224 - val_accuracy: 0.4392\n",
      "Epoch 33/50\n",
      "500/500 [==============================] - 1s 2ms/step - loss: 1.6627 - accuracy: 0.4188 - val_loss: 1.6186 - val_accuracy: 0.4428\n",
      "Epoch 34/50\n",
      "500/500 [==============================] - 1s 2ms/step - loss: 1.6597 - accuracy: 0.4227 - val_loss: 1.6139 - val_accuracy: 0.4400\n",
      "Epoch 35/50\n",
      "500/500 [==============================] - 1s 2ms/step - loss: 1.6518 - accuracy: 0.4292 - val_loss: 1.6010 - val_accuracy: 0.4478\n",
      "Epoch 36/50\n",
      "500/500 [==============================] - 1s 2ms/step - loss: 1.6482 - accuracy: 0.4294 - val_loss: 1.6009 - val_accuracy: 0.4608\n",
      "Epoch 37/50\n",
      "500/500 [==============================] - 1s 2ms/step - loss: 1.6447 - accuracy: 0.4293 - val_loss: 1.5973 - val_accuracy: 0.4565\n",
      "Epoch 38/50\n",
      "500/500 [==============================] - 1s 2ms/step - loss: 1.6419 - accuracy: 0.4364 - val_loss: 1.5923 - val_accuracy: 0.4613\n",
      "Epoch 39/50\n",
      "500/500 [==============================] - 1s 2ms/step - loss: 1.6416 - accuracy: 0.4371 - val_loss: 1.5815 - val_accuracy: 0.4647\n",
      "Epoch 40/50\n",
      "500/500 [==============================] - 1s 2ms/step - loss: 1.6443 - accuracy: 0.4334 - val_loss: 1.5861 - val_accuracy: 0.4630\n",
      "Epoch 41/50\n",
      "500/500 [==============================] - 1s 2ms/step - loss: 1.6329 - accuracy: 0.4364 - val_loss: 1.5942 - val_accuracy: 0.4720\n",
      "Epoch 42/50\n",
      "500/500 [==============================] - 1s 2ms/step - loss: 1.6308 - accuracy: 0.4410 - val_loss: 1.5874 - val_accuracy: 0.4625\n",
      "Epoch 43/50\n",
      "500/500 [==============================] - 1s 2ms/step - loss: 1.6280 - accuracy: 0.4431 - val_loss: 1.5896 - val_accuracy: 0.4622\n",
      "Epoch 44/50\n",
      "500/500 [==============================] - 1s 2ms/step - loss: 1.6258 - accuracy: 0.4414 - val_loss: 1.5763 - val_accuracy: 0.4635\n",
      "Epoch 45/50\n",
      "500/500 [==============================] - 1s 2ms/step - loss: 1.6204 - accuracy: 0.4407 - val_loss: 1.5656 - val_accuracy: 0.4590\n",
      "Epoch 46/50\n",
      "500/500 [==============================] - 1s 2ms/step - loss: 1.6189 - accuracy: 0.4498 - val_loss: 1.5605 - val_accuracy: 0.4885\n",
      "Epoch 47/50\n",
      "500/500 [==============================] - 1s 2ms/step - loss: 1.6151 - accuracy: 0.4507 - val_loss: 1.5720 - val_accuracy: 0.4805\n",
      "Epoch 48/50\n",
      "500/500 [==============================] - 1s 2ms/step - loss: 1.6115 - accuracy: 0.4543 - val_loss: 1.5574 - val_accuracy: 0.4765\n",
      "Epoch 49/50\n",
      "500/500 [==============================] - 1s 2ms/step - loss: 1.6122 - accuracy: 0.4509 - val_loss: 1.5625 - val_accuracy: 0.4897\n",
      "Epoch 50/50\n",
      "500/500 [==============================] - 1s 2ms/step - loss: 1.6041 - accuracy: 0.4582 - val_loss: 1.5445 - val_accuracy: 0.4938\n"
     ]
    },
    {
     "data": {
      "text/plain": [
       "<keras.callbacks.History at 0x7f4040acbe50>"
      ]
     },
     "execution_count": 13,
     "metadata": {},
     "output_type": "execute_result"
    }
   ],
   "source": [
    "# Step 5: Model Training\n",
    "model.compile(loss='sparse_categorical_crossentropy', optimizer='adam', metrics=['accuracy'])\n",
    "\n",
    "# Shuffle the training data before each epoch\n",
    "X_train, y_train = shuffle(X_train, y_train)\n",
    "\n",
    "model.fit(X_train, y_train, epochs=50, batch_size=32, validation_data=(X_test, y_test))\n"
   ]
  },
  {
   "cell_type": "code",
   "execution_count": 14,
   "metadata": {},
   "outputs": [
    {
     "name": "stdout",
     "output_type": "stream",
     "text": [
      "125/125 [==============================] - 0s 2ms/step - loss: 1.5445 - accuracy: 0.4938\n",
      "Test Loss: 1.5445\n",
      "Test Accuracy: 0.4938\n"
     ]
    }
   ],
   "source": [
    "# Step 6: Model Evaluation\n",
    "loss, accuracy = model.evaluate(X_test, y_test)\n",
    "print(f\"Test Loss: {loss:.4f}\")\n",
    "print(f\"Test Accuracy: {accuracy:.4f}\")\n"
   ]
  },
  {
   "cell_type": "code",
   "execution_count": 15,
   "metadata": {},
   "outputs": [],
   "source": [
    "\n",
    "# Step 7: Model Prediction\n",
    "# Assuming you have new customer data in a variable called 'new_data'\n",
    "new_data = np.array([['AUCKLAND SOUTH', 'STEEL FABRICATORS']])  # Replace with actual new data\n"
   ]
  },
  {
   "cell_type": "code",
   "execution_count": 16,
   "metadata": {},
   "outputs": [],
   "source": [
    "# Preprocess the new data\n",
    "new_data_encoded = np.zeros((new_data.shape[0], num_features))\n",
    "for i, var in enumerate(cat_vars[:2]):\n",
    "    new_data_encoded[:, i] = label_encoders[var].transform(new_data[:, i])\n"
   ]
  },
  {
   "cell_type": "code",
   "execution_count": 17,
   "metadata": {},
   "outputs": [
    {
     "name": "stdout",
     "output_type": "stream",
     "text": [
      "1/1 [==============================] - 0s 75ms/step\n",
      "Recommended Product: ['SHEET ELECTRO GALV']\n"
     ]
    }
   ],
   "source": [
    "\n",
    "# Make predictions\n",
    "predictions = model.predict(new_data_encoded)\n",
    "recommended_product = np.argmax(predictions, axis=1)\n",
    "\n",
    "# Decode the recommended product back to its original label\n",
    "recommended_product_label = label_encoders['ProductName'].inverse_transform(recommended_product)\n",
    "print(f\"Recommended Product: {recommended_product_label}\")\n"
   ]
  },
  {
   "cell_type": "code",
   "execution_count": 18,
   "metadata": {},
   "outputs": [
    {
     "data": {
      "text/plain": [
       "array([[4.0644865e-02, 1.8129078e-09, 1.2614041e-04, 1.1673728e-03,\n",
       "        1.0460899e-03, 6.0788054e-05, 1.0410665e-03, 1.9628999e-03,\n",
       "        5.7830107e-03, 2.0213881e-07, 6.9956936e-02, 2.2193469e-11,\n",
       "        1.5368323e-07, 2.4225360e-02, 1.8023696e-02, 4.2074347e-01,\n",
       "        1.8224005e-03, 3.7156746e-01, 3.4751348e-02, 7.0767743e-03]],\n",
       "      dtype=float32)"
      ]
     },
     "execution_count": 18,
     "metadata": {},
     "output_type": "execute_result"
    }
   ],
   "source": [
    "predictions"
   ]
  },
  {
   "cell_type": "code",
   "execution_count": 25,
   "metadata": {},
   "outputs": [
    {
     "name": "stdout",
     "output_type": "stream",
     "text": [
      "1/1 [==============================] - 0s 23ms/step\n",
      "['E.W.S.SQUARE TUBE' 'GALV PIPE MED S/S (114.1OD) AS1074 C250 '\n",
      " 'ZINC ALUMINIUM G300 AZ150' 'RYDAL FLAT S1010' 'RHS NOP AS 1163 C350 LO'\n",
      " 'UNEQUAL ANGLE AS/NZS 3679 GRADE 300'\n",
      " 'BLK PIPE LGT P/E(33.7OD) AS1074 C250' 'PLATE MEDIUM TENSILE GR350'\n",
      " 'SHS NOP AS/NZS 1163 G450 LO' 'SHEET ELECTRO GALV']\n",
      "Top 10 Recommended Products:\n",
      "Customer 1: ['E.W.S.SQUARE TUBE' 'GALV PIPE MED S/S (114.1OD) AS1074 C250 '\n",
      " 'ZINC ALUMINIUM G300 AZ150' 'RYDAL FLAT S1010' 'RHS NOP AS 1163 C350 LO'\n",
      " 'UNEQUAL ANGLE AS/NZS 3679 GRADE 300'\n",
      " 'BLK PIPE LGT P/E(33.7OD) AS1074 C250' 'PLATE MEDIUM TENSILE GR350'\n",
      " 'SHS NOP AS/NZS 1163 G450 LO' 'SHEET ELECTRO GALV']\n"
     ]
    }
   ],
   "source": [
    "# Step 7: Model Prediction\n",
    "# Assuming you have new customer data in a variable called 'new_data'\n",
    "new_data = np.array([['AUCKLAND SOUTH', 'STEEL FABRICATORS']])  # Replace with actual new data\n",
    "\n",
    "# Preprocess the new data\n",
    "new_data_encoded = np.zeros((new_data.shape[0], num_features))\n",
    "for i, var in enumerate(cat_vars[:2]):\n",
    "    new_data_encoded[:, i] = label_encoders[var].transform(new_data[:, i])\n",
    "\n",
    "# Make predictions\n",
    "predictions = model.predict(new_data_encoded)\n",
    "\n",
    "# Get the top 10 recommended products\n",
    "top_10_indices = np.argsort(predictions, axis=1)[:, -10:]  # Indices of top 10 products for each customer\n",
    "top_10_products = label_encoders['ProductName'].inverse_transform(top_10_indices.flatten())\n",
    "top_10_products = top_10_products.reshape((-1, 10))\n",
    "\n",
    "print(top_10_products[0])\n",
    "\n",
    "print(\"Top 10 Recommended Products:\")\n",
    "for i, products in enumerate(top_10_products):\n",
    "    print(f\"Customer {i+1}: {products}\")\n"
   ]
  },
  {
   "cell_type": "code",
   "execution_count": 21,
   "metadata": {},
   "outputs": [],
   "source": [
    "model.save('models/softmax.h5')"
   ]
  },
  {
   "cell_type": "code",
   "execution_count": 22,
   "metadata": {},
   "outputs": [],
   "source": [
    "from tensorflow import keras\n",
    "m1 = keras.models.load_model('models/softmax.h5')"
   ]
  },
  {
   "cell_type": "code",
   "execution_count": 23,
   "metadata": {},
   "outputs": [
    {
     "data": {
      "text/plain": [
       "<keras.engine.sequential.Sequential at 0x7f401bde0c10>"
      ]
     },
     "execution_count": 23,
     "metadata": {},
     "output_type": "execute_result"
    }
   ],
   "source": [
    "m1"
   ]
  },
  {
   "cell_type": "code",
   "execution_count": null,
   "metadata": {},
   "outputs": [],
   "source": []
  }
 ],
 "metadata": {
  "kernelspec": {
   "display_name": "Python 3",
   "language": "python",
   "name": "python3"
  },
  "language_info": {
   "codemirror_mode": {
    "name": "ipython",
    "version": 3
   },
   "file_extension": ".py",
   "mimetype": "text/x-python",
   "name": "python",
   "nbconvert_exporter": "python",
   "pygments_lexer": "ipython3",
   "version": "3.8.10"
  },
  "orig_nbformat": 4
 },
 "nbformat": 4,
 "nbformat_minor": 2
}
